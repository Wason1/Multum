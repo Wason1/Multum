{
  "nbformat": 4,
  "nbformat_minor": 2,
  "metadata": {
    "colab": {
      "name": "Multum-2.ipynb",
      "provenance": [],
      "authorship_tag": "ABX9TyM5ASWsJjrvOueXdbc9CE02",
      "include_colab_link": true
    },
    "kernelspec": {
      "name": "python3",
      "display_name": "Python 3.8.5 64-bit ('base': conda)"
    },
    "language_info": {
      "name": "python",
      "version": "3.8.5",
      "mimetype": "text/x-python",
      "codemirror_mode": {
        "name": "ipython",
        "version": 3
      },
      "pygments_lexer": "ipython3",
      "nbconvert_exporter": "python",
      "file_extension": ".py"
    },
    "interpreter": {
      "hash": "a93990492e1f73306ba11502f664f1b2783b183249f6329832324b83a08fcef2"
    }
  },
  "cells": [
    {
      "cell_type": "markdown",
      "source": [
        "<a href=\"https://colab.research.google.com/github/Wason1/Multum/blob/main/Multum_2.ipynb\" target=\"_parent\"><img src=\"https://colab.research.google.com/assets/colab-badge.svg\" alt=\"Open In Colab\"/></a>"
      ],
      "metadata": {
        "id": "view-in-github",
        "colab_type": "text"
      }
    },
    {
      "cell_type": "markdown",
      "source": [
        "# Multum 6\r\n",
        "## Setting inital parameters"
      ],
      "metadata": {}
    },
    {
      "cell_type": "code",
      "execution_count": 3,
      "source": [
        "excel_file_path = r'\\\\whoffice\\shared\\EMR\\BAU\\Audit Spreadsheets\\Multum audits\\Multum Processing 6 - catalogue-Multum_Alignment.xlsx'"
      ],
      "outputs": [],
      "metadata": {}
    },
    {
      "cell_type": "markdown",
      "source": [
        "## Import Libraries and read excel file\r\n",
        "### 5 mins 15 seconds"
      ],
      "metadata": {}
    },
    {
      "cell_type": "code",
      "execution_count": 1,
      "source": [
        "import pandas as pd\r\n",
        "import numpy as np\r\n",
        "import openpyxl as pyxl\r\n",
        "import os\r\n",
        "current_multum = pd.read_excel(excel_file_path, sheet_name=None)"
      ],
      "outputs": [],
      "metadata": {
        "id": "YUCrfFN5xGHC"
      }
    },
    {
      "cell_type": "code",
      "execution_count": 12,
      "source": [
        "current_multum['C2031'].head(2)"
      ],
      "outputs": [
        {
          "output_type": "execute_result",
          "data": {
            "text/plain": [
              "   Unnamed: 0 PRIMARY_DNUM MULTUM_DNUM DNUM_MATCH  IGNORE_DNUM_MAPPING  \\\n",
              "0         NaN       IGNORE           -          -                  0.0   \n",
              "1         NaN       IGNORE           -          -                  0.0   \n",
              "\n",
              "          PRIMARY_MNEMONIC  PRIMARY_CATALOG_CD SYNONYM_CNUM  \\\n",
              "0   *** Blister Pack C & C         103045952.0          NaN   \n",
              "1  *** Blister Pack Dosing         103046002.0          NaN   \n",
              "\n",
              "   IGNORE_CNUM_MAPPING  CNUM_COUNT  ...  \\\n",
              "0                  0.0      2865.0  ...   \n",
              "1                  0.0      2865.0  ...   \n",
              "\n",
              "   ; synonym name correction (non-domain-specific) Unnamed: 38 Unnamed: 39  \\\n",
              "0  ; synonym name correction (non-domain-specific)         NaN         NaN   \n",
              "1  ; synonym name correction (non-domain-specific)         NaN         NaN   \n",
              "\n",
              "  Unnamed: 40 Unnamed: 41  Unnamed: 42 Unnamed: 43 Unnamed: 44  Unnamed: 45  \\\n",
              "0         NaN         NaN          NaN         NaN         NaN          NaN   \n",
              "1         NaN         NaN          NaN         NaN         NaN          NaN   \n",
              "\n",
              "    .2  \n",
              "0       \n",
              "1       \n",
              "\n",
              "[2 rows x 47 columns]"
            ],
            "text/html": [
              "<div>\n",
              "<style scoped>\n",
              "    .dataframe tbody tr th:only-of-type {\n",
              "        vertical-align: middle;\n",
              "    }\n",
              "\n",
              "    .dataframe tbody tr th {\n",
              "        vertical-align: top;\n",
              "    }\n",
              "\n",
              "    .dataframe thead th {\n",
              "        text-align: right;\n",
              "    }\n",
              "</style>\n",
              "<table border=\"1\" class=\"dataframe\">\n",
              "  <thead>\n",
              "    <tr style=\"text-align: right;\">\n",
              "      <th></th>\n",
              "      <th>Unnamed: 0</th>\n",
              "      <th>PRIMARY_DNUM</th>\n",
              "      <th>MULTUM_DNUM</th>\n",
              "      <th>DNUM_MATCH</th>\n",
              "      <th>IGNORE_DNUM_MAPPING</th>\n",
              "      <th>PRIMARY_MNEMONIC</th>\n",
              "      <th>PRIMARY_CATALOG_CD</th>\n",
              "      <th>SYNONYM_CNUM</th>\n",
              "      <th>IGNORE_CNUM_MAPPING</th>\n",
              "      <th>CNUM_COUNT</th>\n",
              "      <th>...</th>\n",
              "      <th>; synonym name correction (non-domain-specific)</th>\n",
              "      <th>Unnamed: 38</th>\n",
              "      <th>Unnamed: 39</th>\n",
              "      <th>Unnamed: 40</th>\n",
              "      <th>Unnamed: 41</th>\n",
              "      <th>Unnamed: 42</th>\n",
              "      <th>Unnamed: 43</th>\n",
              "      <th>Unnamed: 44</th>\n",
              "      <th>Unnamed: 45</th>\n",
              "      <th>.2</th>\n",
              "    </tr>\n",
              "  </thead>\n",
              "  <tbody>\n",
              "    <tr>\n",
              "      <th>0</th>\n",
              "      <td>NaN</td>\n",
              "      <td>IGNORE</td>\n",
              "      <td>-</td>\n",
              "      <td>-</td>\n",
              "      <td>0.0</td>\n",
              "      <td>*** Blister Pack C &amp; C</td>\n",
              "      <td>103045952.0</td>\n",
              "      <td>NaN</td>\n",
              "      <td>0.0</td>\n",
              "      <td>2865.0</td>\n",
              "      <td>...</td>\n",
              "      <td>; synonym name correction (non-domain-specific)</td>\n",
              "      <td>NaN</td>\n",
              "      <td>NaN</td>\n",
              "      <td>NaN</td>\n",
              "      <td>NaN</td>\n",
              "      <td>NaN</td>\n",
              "      <td>NaN</td>\n",
              "      <td>NaN</td>\n",
              "      <td>NaN</td>\n",
              "      <td></td>\n",
              "    </tr>\n",
              "    <tr>\n",
              "      <th>1</th>\n",
              "      <td>NaN</td>\n",
              "      <td>IGNORE</td>\n",
              "      <td>-</td>\n",
              "      <td>-</td>\n",
              "      <td>0.0</td>\n",
              "      <td>*** Blister Pack Dosing</td>\n",
              "      <td>103046002.0</td>\n",
              "      <td>NaN</td>\n",
              "      <td>0.0</td>\n",
              "      <td>2865.0</td>\n",
              "      <td>...</td>\n",
              "      <td>; synonym name correction (non-domain-specific)</td>\n",
              "      <td>NaN</td>\n",
              "      <td>NaN</td>\n",
              "      <td>NaN</td>\n",
              "      <td>NaN</td>\n",
              "      <td>NaN</td>\n",
              "      <td>NaN</td>\n",
              "      <td>NaN</td>\n",
              "      <td>NaN</td>\n",
              "      <td></td>\n",
              "    </tr>\n",
              "  </tbody>\n",
              "</table>\n",
              "<p>2 rows × 47 columns</p>\n",
              "</div>"
            ]
          },
          "metadata": {},
          "execution_count": 12
        }
      ],
      "metadata": {}
    },
    {
      "cell_type": "code",
      "execution_count": null,
      "source": [],
      "outputs": [],
      "metadata": {}
    }
  ]
}