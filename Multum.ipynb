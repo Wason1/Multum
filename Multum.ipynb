{
  "cells": [
    {
      "cell_type": "markdown",
      "metadata": {
        "colab_type": "text",
        "id": "view-in-github"
      },
      "source": [
        "<a href=\"https://colab.research.google.com/github/Wason1/Multum/blob/main/Multum_2.ipynb\" target=\"_parent\"><img src=\"https://colab.research.google.com/assets/colab-badge.svg\" alt=\"Open In Colab\"/></a>"
      ]
    },
    {
      "attachments": {},
      "cell_type": "markdown",
      "metadata": {},
      "source": [
        "# Multum"
      ]
    },
    {
      "attachments": {},
      "cell_type": "markdown",
      "metadata": {},
      "source": [
        "# Multum Overview\n",
        "## What does the Multum package Change?  \n",
        "- Adding new drugs to the reference table (that we might choose to add to our catalog) \n",
        "- Drug interaction checking \n",
        "- Dose range checking (not turned on) \n",
        "- Allergy Checking \n",
        "- List of all Drugs that we can add to the system (we can clearly see new ones that we don't have in our catalog) \n",
        "\n",
        " \n",
        "## Keys and Functionality\n",
        "The CNUMs and DNUMs attached to an item are the Multum Keys that identify the item for functionality. \n",
        "\n",
        "CNUM: Uniquely identifies a synonyn. CNUM can be used for dose range checking. Paracetemol 500mg tablet or Paracetemol 665mg tablet are seperate CNUM's.  \n",
        "\n",
        "DNUM: Identifies at primary level only. Eg paracetemol vs asprin. Used for interaction checking and allergy checking, but not dose range checking.  \n",
        "\n",
        " \n",
        "CNUM ==SYNONYM_CKI== order_catalog_synonym.CKI \n",
        "\n",
        "DNUM == PRIMARY_CKI == order_catalog.CKI"
      ]
    },
    {
      "attachments": {},
      "cell_type": "markdown",
      "metadata": {},
      "source": [
        "# Create a folder\n",
        "1. Make a folder on your c drive called 'MULTUM'\n",
        "2. Copy this file (Multum.ipynb) into the 'MULTUM' folder on your c drive and open the copied ipynb file to continue working.\n",
        "3. Create a sub folder called 'Cerner Multum Package'"
      ]
    },
    {
      "attachments": {},
      "cell_type": "markdown",
      "metadata": {},
      "source": [
        "# Download the Multum Package\n",
        "Download the multum package into the 'MULTUM' folder. Put it in the 'Cerner Multum Package' folder then extract it in the same location"
      ]
    },
    {
      "attachments": {},
      "cell_type": "markdown",
      "metadata": {},
      "source": [
        "# Install The following Packages\n",
        "\n",
        "- Snomed\n",
        "- MBS (Medicare Benefits Schedule (AU))\n",
        "- Multum (in cert, test it, then in production)"
      ]
    },
    {
      "cell_type": "markdown",
      "metadata": {},
      "source": [
        "## Multum 2.7 Missing DNUMS\n",
        "time: 0.5 seconds\n",
        "### Set initial variables"
      ]
    },
    {
      "cell_type": "code",
      "execution_count": 7,
      "metadata": {},
      "outputs": [],
      "source": [
        "#excel_file_path = r'\\\\whoffice\\shared\\EMR\\BAU\\Audit Spreadsheets\\Multum audits\\Multum Processing 6 - catalogue-Multum_Alignment.xlsx'\n",
        "excel_file_path = r'C:\\storage\\data\\Multum Processing 6 - catalogue-Multum_Alignment.xlsx'\n",
        "output_file_path = r'C:\\storage\\data\\dataout.xlsx'\n",
        "PROD = 'P2031'\n",
        "NONPROD = 'C2031'\n",
        "# Below are a list of words that have zero weighting towards the matching algorithm between multum and our catelog\n",
        "no_match_lst = ['topical', 'nasal']"
      ]
    },
    {
      "cell_type": "markdown",
      "metadata": {},
      "source": [
        "## Import Libraries and read Multum 6\n",
        "### Time to execute block below\n",
        "* over network: 5 mins 15 seconds (approx 320 seconds)\n",
        "* from local SSD: 17 seconds"
      ]
    },
    {
      "cell_type": "code",
      "execution_count": 8,
      "metadata": {
        "id": "YUCrfFN5xGHC"
      },
      "outputs": [
        {
          "name": "stdout",
          "output_type": "stream",
          "text": [
            "ignore warnings above this line______\n",
            "---EXCEL SHEET NAMES---\n",
            "C2031\n",
            "P2031\n",
            "syn-Mul compare extract script\n",
            "current Multum\n",
            "current Multum extract script\n",
            "Multum build exceptions\n",
            "obsolete Multum\n",
            "obsolete Multum extract script\n",
            "Multum SRs\n",
            "-----------------------\n",
            "You may continue\n"
          ]
        }
      ],
      "source": [
        "# Import Libraries\n",
        "import pandas as pd\n",
        "import numpy as np\n",
        "import openpyxl as pyxl\n",
        "#import os\n",
        "\n",
        "# Read Multum 6\n",
        "m = pd.read_excel(excel_file_path, sheet_name=None)\n",
        "print('ignore warnings above this line______')\n",
        "\n",
        "# Show sheet names in Multum 6\n",
        "print('---EXCEL SHEET NAMES---')\n",
        "for x in m.keys():\n",
        "    print(x)\n",
        "print('-----------------------')\n",
        "\n",
        "if PROD not in m.keys():\n",
        "    print('Your itnitial conditions are not correctly set')\n",
        "else:\n",
        "    print('You may continue')"
      ]
    },
    {
      "cell_type": "markdown",
      "metadata": {},
      "source": [
        "## 2.7.4.\n",
        "time: 0.1 seconds\n",
        "The code block below does the equivalent of:\n",
        "\n",
        "\"On the selected environment’s worksheet, filter column F [PRIMARY_MNEMONIC] to show only light yellow coloured cells. These are active primaries that do not have a DNUM.\""
      ]
    },
    {
      "cell_type": "code",
      "execution_count": 9,
      "metadata": {},
      "outputs": [],
      "source": [
        "# Filter for active primaries that do not have a DNUM. and put in table p_1\n",
        "# Equivalent to filtering for 'yellow' on the 'PRIMARY_MNEMONIC' column (in the excel tool)\n",
        "prod_data = m[PROD].fillna('', inplace = False) # blank cells are literally blank strings '' now.\n",
        "prod_data = prod_data.astype(str)\n",
        "prod_data.columns = prod_data.columns.str.replace(' ','_') # Changing column names to get rid of spaces\n",
        "prod_data.columns = prod_data.columns.str.replace(\"'\",'')\n",
        "# prod_active_primaries = prod.query(\" SYNONYM_TYPE == 'Primary' & SYNONYM_ACTIVE == 1 & PRIMARY_DNUM == '' \")\n",
        "p_1 = prod_data\n",
        "p_1 = p_1.loc[p_1['SYNONYM_TYPE'] == 'Primary']\n",
        "p_1 = p_1.loc[p_1['SYNONYM_ACTIVE'] == '1']\n",
        "p_1 = p_1.loc[p_1['PRIMARY_DNUM'] == '']"
      ]
    },
    {
      "cell_type": "markdown",
      "metadata": {},
      "source": [
        "## Missing DNUMS\n",
        "time: 0.6 seconds\n",
        "\n",
        "## The block below will get all the 'current Multum' DNUMS that are not associated with items in our prod catalogue"
      ]
    },
    {
      "cell_type": "code",
      "execution_count": 10,
      "metadata": {},
      "outputs": [],
      "source": [
        "\n",
        "# Rename the table, make all data in the cells strings and rename columns\n",
        "m_1 = m['current Multum'].astype(str)\n",
        "m_1.columns = m_1.columns.str.replace(' ','_') # Changing column names to get rid of spaces\n",
        "m_1.columns = m_1.columns.str.replace(\"'\",'') # Changing column names to get rid of thes\n",
        "# Filtering Dataframe\n",
        "# the stuff below does the same as this formula in the current Multum sheet. Every line filters the data some more\n",
        "# Formula: =AND($B1>0,$I1=0,$J1=0,$M1<>1,$P1<>1,$S1<>1,$V1<>1,$Y1<>1,$AB1<>1,$AE1<>1)\n",
        "m_1 = m_1.loc[m_1['MOCL_SYNONYM_TYPE'] == 'Primary']\n",
        "m_1 = m_1.loc[m_1['MOCL_DNUM'].str.startswith('MUL')]\n",
        "m_1 = m_1.loc[m_1['SYNONYM_BUILT']  == '0' ]\n",
        "m_1 = m_1.loc[m_1['generic_manufacturer_do_not_build_rule']  != '1' ]\n",
        "m_1 = m_1.loc[m_1['multi-ingredient_primary_do_not_build_rule']  != '1' ]\n",
        "m_1 = m_1.loc[m_1['volume_dosed_primary_do_not_build_rule']  != '1' ]\n",
        "m_1 = m_1.loc[m_1['flu_vax_primary_do_not_build_rule']  != '1' ]\n",
        "m_1 = m_1.loc[m_1['non-substitutable_primary_do_not_build_rule']  != '1' ]\n",
        "m_1 = m_1.loc[m_1['PBS_do_not_build_rule']  != '1' ]\n",
        "m_1 = m_1.loc[m_1['miscellaneous_do_not_build']  != '1' ]\n",
        "m_1.reset_index(drop=True, inplace=True) # Reindex the data (optional)\n",
        "\n",
        "# Rename the table, make all data in the cells strings and rename columns\n",
        "m_2 = m['current Multum'].astype(str)\n",
        "m_2.columns = m_2.columns.str.replace(' ','_') # Changing column names to get rid of spaces\n",
        "m_2.columns = m_2.columns.str.replace(\"'\",'')\n",
        "# Filtering Dataframe with the second conditional formula\n",
        "# the stuff below does the same as this formula in the current Multum sheet. Every line filters the data some more\n",
        "# Formula: =AND($I1=0,$AF1=1)\n",
        "m_2 = m_2.loc[m_2['SYNONYM_BUILT']  == '0' ]\n",
        "m_2 = m_2.loc[m_2['miscellaneous_do_build']  == '1' ]\n",
        "m_2.reset_index(drop=True, inplace=True) # Reindex the data (optional)\n",
        "\n",
        "# Merge m_1 and m_2\n",
        "free_mul_primaries = pd.concat([m_1, m_2], ignore_index=True, sort=True)\n",
        "# Get rid of duplicates\n",
        "free_mul_primaries.drop_duplicates(inplace = True) \n",
        "free_mul_primaries.reset_index(drop=True, inplace=True) # Reindex the data (optional)"
      ]
    },
    {
      "cell_type": "markdown",
      "metadata": {},
      "source": [
        "## Generate Excel File so user can choose associations.\n",
        "time: 0.5 seconds"
      ]
    },
    {
      "cell_type": "code",
      "execution_count": 11,
      "metadata": {},
      "outputs": [],
      "source": [
        "# Unmatched Primaries in Prod\n",
        "p_2 = p_1.filter(['PRIMARY_MNEMONIC'])\n",
        "p_2.reset_index(drop=True, inplace=True)\n",
        "\n",
        "# Create a df for Multum - Catelog matching spreadsheet\n",
        "column1 = 'PRIMARY_MNEMONIC' #cerner\n",
        "column2 = 'MOCL_PRIMARY_MNEMONIC' #multum\n",
        "column3 = 'MOCL_DNUM' # Multum\n",
        "column4 = 'MOCL_CNUM' # Multum\n",
        "#df = pd.DataFrame(columns=[column1, column2])\n",
        "df = pd.DataFrame(columns = [column1,column2, column3, column4])\n",
        "\n",
        "# Array of all unmatched Multum Primaries\n",
        "mul_p = free_mul_primaries.filter(items = [column2, column3, column4])\n",
        "\n",
        "# Matching Algorithm\n",
        "for index, row in p_2.iterrows():\n",
        "    cernername = row[column1]\n",
        "    current_key_words = cernername.split(' ')\n",
        "    for i, r in mul_p.iterrows():\n",
        "        multumname = r[column2]\n",
        "        words_multumname = multumname.split(' ')\n",
        "        # Remove the words that should have no impact on matching such as 'topical'\n",
        "        words_y = [i for i in words_multumname if i not in no_match_lst]\n",
        "        # Checking if any unallocated catelog primaries match with any unallocated multum primaries and add to table\n",
        "        if bool(set(current_key_words) & set(words_y)):\n",
        "            #make a mini table\n",
        "            data = {column1: [cernername], column2: [multumname], column3: [r[column3]], column4: [r[column4]]}  \n",
        "            df_temp = pd.DataFrame(data)\n",
        "            # append to main table\n",
        "            df = pd.concat([df, df_temp], ignore_index=True)\n",
        "\n",
        "# Add match column\n",
        "column0 = 'MATCH? \"x\"'\n",
        "df[column0]=''\n",
        "# reorder columns\n",
        "column_order = [column0,column1,column2,column3,column4]\n",
        "df = df[column_order]\n",
        "\n",
        "# Replace duplicates in the PRIMARY_MNEMONIC column with blanks, keep first\n",
        "prev_row = 'x'\n",
        "for index, row in df.iterrows():\n",
        "    if row['PRIMARY_MNEMONIC'] == prev_row:\n",
        "        df.loc[index, 'PRIMARY_MNEMONIC'] = ''\n",
        "    prev_row = row['PRIMARY_MNEMONIC']\n",
        "\n",
        "df.to_excel(output_file_path)"
      ]
    },
    {
      "cell_type": "markdown",
      "metadata": {},
      "source": [
        "## Read the excel sheet"
      ]
    },
    {
      "cell_type": "code",
      "execution_count": 12,
      "metadata": {},
      "outputs": [],
      "source": [
        "df_back_in = pd.read_excel(output_file_path, sheet_name=None)"
      ]
    }
  ],
  "metadata": {
    "colab": {
      "authorship_tag": "ABX9TyM5ASWsJjrvOueXdbc9CE02",
      "include_colab_link": true,
      "name": "Multum-2.ipynb",
      "provenance": []
    },
    "interpreter": {
      "hash": "1ed430c114e0a79c53672587297a6bc7d005170c237fe4176463a37b436c6565"
    },
    "kernelspec": {
      "display_name": "Python 3.9.6 64-bit",
      "name": "python3"
    },
    "language_info": {
      "codemirror_mode": {
        "name": "ipython",
        "version": 3
      },
      "file_extension": ".py",
      "mimetype": "text/x-python",
      "name": "python",
      "nbconvert_exporter": "python",
      "pygments_lexer": "ipython3",
      "version": "3.9.6"
    }
  },
  "nbformat": 4,
  "nbformat_minor": 2
}
