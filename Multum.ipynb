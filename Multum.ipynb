{
  "nbformat": 4,
  "nbformat_minor": 2,
  "metadata": {
    "colab": {
      "name": "Multum-2.ipynb",
      "provenance": [],
      "authorship_tag": "ABX9TyM5ASWsJjrvOueXdbc9CE02",
      "include_colab_link": true
    },
    "kernelspec": {
      "name": "python3",
      "display_name": "Python 3.9.6 64-bit"
    },
    "language_info": {
      "name": "python",
      "version": "3.9.6",
      "mimetype": "text/x-python",
      "codemirror_mode": {
        "name": "ipython",
        "version": 3
      },
      "pygments_lexer": "ipython3",
      "nbconvert_exporter": "python",
      "file_extension": ".py"
    },
    "interpreter": {
      "hash": "1ed430c114e0a79c53672587297a6bc7d005170c237fe4176463a37b436c6565"
    }
  },
  "cells": [
    {
      "cell_type": "markdown",
      "source": [
        "<a href=\"https://colab.research.google.com/github/Wason1/Multum/blob/main/Multum_2.ipynb\" target=\"_parent\"><img src=\"https://colab.research.google.com/assets/colab-badge.svg\" alt=\"Open In Colab\"/></a>"
      ],
      "metadata": {
        "id": "view-in-github",
        "colab_type": "text"
      }
    },
    {
      "cell_type": "markdown",
      "source": [
        "# Multum "
      ],
      "metadata": {}
    },
    {
      "cell_type": "markdown",
      "source": [
        "## Multum 2.7 Missing DNUMS\r\n",
        "time: 0.5 seconds\r\n",
        "### Set initial variables"
      ],
      "metadata": {}
    },
    {
      "cell_type": "code",
      "execution_count": 141,
      "source": [
        "#excel_file_path = r'\\\\whoffice\\shared\\EMR\\BAU\\Audit Spreadsheets\\Multum audits\\Multum Processing 6 - catalogue-Multum_Alignment.xlsx'\r\n",
        "excel_file_path = r'C:\\storage\\data\\Multum Processing 6 - catalogue-Multum_Alignment.xlsx'\r\n",
        "output_file_path = r'C:\\storage\\data\\dataout.xlsx'\r\n",
        "PROD = 'P2031'\r\n",
        "NONPROD = 'C2031'\r\n",
        "# Below are a list of words that have zero weighting towards the matching algorithm between multum and our catelog\r\n",
        "no_match_lst = ['topical', 'nasal']"
      ],
      "outputs": [],
      "metadata": {}
    },
    {
      "cell_type": "markdown",
      "source": [
        "## Import Libraries and read Multum 6\r\n",
        "### Time to execute block below\r\n",
        "* over network: 5 mins 15 seconds (approx 320 seconds)\r\n",
        "* from local SSD: 17 seconds"
      ],
      "metadata": {}
    },
    {
      "cell_type": "code",
      "execution_count": 157,
      "source": [
        "# Import Libraries\r\n",
        "import pandas as pd\r\n",
        "import numpy as np\r\n",
        "import openpyxl as pyxl\r\n",
        "#import os\r\n",
        "\r\n",
        "# Read Multum 6\r\n",
        "m = pd.read_excel(excel_file_path, sheet_name=None)\r\n",
        "print('ignore warnings above this line______')\r\n",
        "\r\n",
        "# Show sheet names in Multum 6\r\n",
        "print('---EXCEL SHEET NAMES---')\r\n",
        "for x in m.keys():\r\n",
        "    print(x)\r\n",
        "print('-----------------------')\r\n",
        "\r\n",
        "if PROD not in m.keys():\r\n",
        "    print('Your itnitial conditions are not correctly set')\r\n",
        "else:\r\n",
        "    print('You may continue')"
      ],
      "outputs": [
        {
          "output_type": "stream",
          "name": "stderr",
          "text": [
            "C:\\Users\\jason\\AppData\\Local\\Programs\\Python\\Python39\\lib\\site-packages\\openpyxl\\worksheet\\_reader.py:312: UserWarning: Conditional Formatting extension is not supported and will be removed\n",
            "  warn(msg)\n"
          ]
        },
        {
          "output_type": "stream",
          "name": "stdout",
          "text": [
            "ignore warnings above this line______\n",
            "---EXCEL SHEET NAMES---\n",
            "C2031\n",
            "P2031\n",
            "syn-Mul compare extract script\n",
            "current Multum\n",
            "current Multum extract script\n",
            "Multum build exceptions\n",
            "obsolete Multum\n",
            "obsolete Multum extract script\n",
            "Multum SRs\n",
            "-----------------------\n",
            "You may continue\n"
          ]
        }
      ],
      "metadata": {
        "id": "YUCrfFN5xGHC"
      }
    },
    {
      "cell_type": "markdown",
      "source": [
        "## 2.7.4.\r\n",
        "time: 0.1 seconds\r\n",
        "The code block below does the equivalent of:\r\n",
        "\r\n",
        "\"On the selected environment’s worksheet, filter column F [PRIMARY_MNEMONIC] to show only light yellow coloured cells. These are active primaries that do not have a DNUM.\""
      ],
      "metadata": {}
    },
    {
      "cell_type": "code",
      "execution_count": 165,
      "source": [
        "# Filter for active primaries that do not have a DNUM. and put in table p_1\r\n",
        "# Equivalent to filtering for 'yellow' on the 'PRIMARY_MNEMONIC' column (in the excel tool)\r\n",
        "prod_data = m[PROD].fillna('', inplace = False) # blank cells are literally blank strings '' now.\r\n",
        "prod_data = prod_data.astype(str)\r\n",
        "prod_data.columns = prod_data.columns.str.replace(' ','_') # Changing column names to get rid of spaces\r\n",
        "prod_data.columns = prod_data.columns.str.replace(\"'\",'')\r\n",
        "# prod_active_primaries = prod.query(\" SYNONYM_TYPE == 'Primary' & SYNONYM_ACTIVE == 1 & PRIMARY_DNUM == '' \")\r\n",
        "p_1 = prod_data\r\n",
        "p_1 = p_1.loc[p_1['SYNONYM_TYPE'] == 'Primary']\r\n",
        "p_1 = p_1.loc[p_1['SYNONYM_ACTIVE'] == '1']\r\n",
        "p_1 = p_1.loc[p_1['PRIMARY_DNUM'] == '']"
      ],
      "outputs": [],
      "metadata": {}
    },
    {
      "cell_type": "markdown",
      "source": [
        "## Missing DNUMS\r\n",
        "time: 0.6 seconds\r\n",
        "\r\n",
        "## The block below will get all the 'current Multum' DNUMS that are not associated with items in our prod catalogue"
      ],
      "metadata": {}
    },
    {
      "cell_type": "code",
      "execution_count": 173,
      "source": [
        "\r\n",
        "# Rename the table, make all data in the cells strings and rename columns\r\n",
        "m_1 = m['current Multum'].astype(str)\r\n",
        "m_1.columns = m_1.columns.str.replace(' ','_') # Changing column names to get rid of spaces\r\n",
        "m_1.columns = m_1.columns.str.replace(\"'\",'') # Changing column names to get rid of thes\r\n",
        "# Filtering Dataframe\r\n",
        "# the stuff below does the same as this formula in the current Multum sheet. Every line filters the data some more\r\n",
        "# Formula: =AND($B1>0,$I1=0,$J1=0,$M1<>1,$P1<>1,$S1<>1,$V1<>1,$Y1<>1,$AB1<>1,$AE1<>1)\r\n",
        "m_1 = m_1.loc[m_1['MOCL_SYNONYM_TYPE'] == 'Primary']\r\n",
        "m_1 = m_1.loc[m_1['MOCL_DNUM'].str.startswith('MUL')]\r\n",
        "m_1 = m_1.loc[m_1['SYNONYM_BUILT']  == '0' ]\r\n",
        "m_1 = m_1.loc[m_1['generic_manufacturer_do_not_build_rule']  != '1' ]\r\n",
        "m_1 = m_1.loc[m_1['multi-ingredient_primary_do_not_build_rule']  != '1' ]\r\n",
        "m_1 = m_1.loc[m_1['volume_dosed_primary_do_not_build_rule']  != '1' ]\r\n",
        "m_1 = m_1.loc[m_1['flu_vax_primary_do_not_build_rule']  != '1' ]\r\n",
        "m_1 = m_1.loc[m_1['non-substitutable_primary_do_not_build_rule']  != '1' ]\r\n",
        "m_1 = m_1.loc[m_1['PBS_do_not_build_rule']  != '1' ]\r\n",
        "m_1 = m_1.loc[m_1['miscellaneous_do_not_build']  != '1' ]\r\n",
        "m_1.reset_index(drop=True, inplace=True) # Reindex the data (optional)\r\n",
        "\r\n",
        "# Rename the table, make all data in the cells strings and rename columns\r\n",
        "m_2 = m['current Multum'].astype(str)\r\n",
        "m_2.columns = m_2.columns.str.replace(' ','_') # Changing column names to get rid of spaces\r\n",
        "m_2.columns = m_2.columns.str.replace(\"'\",'')\r\n",
        "# Filtering Dataframe with the second conditional formula\r\n",
        "# the stuff below does the same as this formula in the current Multum sheet. Every line filters the data some more\r\n",
        "# Formula: =AND($I1=0,$AF1=1)\r\n",
        "m_2 = m_2.loc[m_2['SYNONYM_BUILT']  == '0' ]\r\n",
        "m_2 = m_2.loc[m_2['miscellaneous_do_build']  == '1' ]\r\n",
        "m_2.reset_index(drop=True, inplace=True) # Reindex the data (optional)\r\n",
        "\r\n",
        "# Merge m_1 and m_2\r\n",
        "free_mul_primaries = pd.concat([m_1, m_2], ignore_index=True, sort=True)\r\n",
        "# Get rid of duplicates\r\n",
        "free_mul_primaries.drop_duplicates(inplace = True) \r\n",
        "free_mul_primaries.reset_index(drop=True, inplace=True) # Reindex the data (optional)"
      ],
      "outputs": [],
      "metadata": {}
    },
    {
      "cell_type": "markdown",
      "source": [
        "## Generate Excel File so user can choose associations.\r\n",
        "time: 0.5 seconds"
      ],
      "metadata": {}
    },
    {
      "cell_type": "code",
      "execution_count": 189,
      "source": [
        "# Unmatched Primaries in Prod\r\n",
        "p_2 = p_1.filter(['PRIMARY_MNEMONIC'])\r\n",
        "p_2.reset_index(drop=True, inplace=True)\r\n",
        "\r\n",
        "# Create a df for Multum - Catelog matching spreadsheet\r\n",
        "column1 = 'PRIMARY_MNEMONIC' #cerner\r\n",
        "column2 = 'MOCL_PRIMARY_MNEMONIC' #multum\r\n",
        "column3 = 'MOCL_DNUM' # Multum\r\n",
        "column4 = 'MOCL_CNUM' # Multum\r\n",
        "#df = pd.DataFrame(columns=[column1, column2])\r\n",
        "df = pd.DataFrame(columns = [column1,column2, column3, column4])\r\n",
        "\r\n",
        "# Array of all unmatched Multum Primaries\r\n",
        "mul_p = free_mul_primaries.filter(items = [column2, column3, column4])\r\n",
        "\r\n",
        "# Matching Algorithm\r\n",
        "for index, row in p_2.iterrows():\r\n",
        "    cernername = row[column1]\r\n",
        "    current_key_words = cernername.split(' ')\r\n",
        "    for i, r in mul_p.iterrows():\r\n",
        "        multumname = r[column2]\r\n",
        "        words_multumname = multumname.split(' ')\r\n",
        "        # Remove the words that should have no impact on matching such as 'topical'\r\n",
        "        words_y = [i for i in words_multumname if i not in no_match_lst]\r\n",
        "        # Checking if any unallocated catelog primaries match with any unallocated multum primaries and add to table\r\n",
        "        if bool(set(current_key_words) & set(words_y)):\r\n",
        "            #make a mini table\r\n",
        "            data = {column1: [cernername], column2: [multumname], column3: [r[column3]], column4: [r[column4]]}  \r\n",
        "            df_temp = pd.DataFrame(data)\r\n",
        "            # append to main table\r\n",
        "            df = pd.concat([df, df_temp], ignore_index=True)\r\n",
        "\r\n",
        "# Add match column\r\n",
        "column0 = 'MATCH? \"x\"'\r\n",
        "df[column0]=''\r\n",
        "# reorder columns\r\n",
        "column_order = [column0,column1,column2,column3,column4]\r\n",
        "df = df[column_order]\r\n",
        "\r\n",
        "# Replace duplicates in the PRIMARY_MNEMONIC column with blanks, keep first\r\n",
        "prev_row = 'x'\r\n",
        "for index, row in df.iterrows():\r\n",
        "    if row['PRIMARY_MNEMONIC'] == prev_row:\r\n",
        "        df.loc[index, 'PRIMARY_MNEMONIC'] = ''\r\n",
        "    prev_row = row['PRIMARY_MNEMONIC']\r\n",
        "\r\n",
        "df.to_excel(output_file_path)"
      ],
      "outputs": [],
      "metadata": {}
    },
    {
      "cell_type": "markdown",
      "source": [
        "## Read the excel sheet"
      ],
      "metadata": {}
    },
    {
      "cell_type": "code",
      "execution_count": null,
      "source": [
        "df_back_in = pd.read_excel(output_file_path, sheet_name=None)"
      ],
      "outputs": [],
      "metadata": {}
    }
  ]
}